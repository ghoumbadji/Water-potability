{
 "cells": [
  {
   "cell_type": "code",
   "execution_count": 1,
   "id": "acc85733",
   "metadata": {},
   "outputs": [],
   "source": [
    "import pandas as pd"
   ]
  },
  {
   "cell_type": "code",
   "execution_count": 12,
   "id": "f9d646a9",
   "metadata": {},
   "outputs": [
    {
     "data": {
      "text/html": [
       "<div>\n",
       "<style scoped>\n",
       "    .dataframe tbody tr th:only-of-type {\n",
       "        vertical-align: middle;\n",
       "    }\n",
       "\n",
       "    .dataframe tbody tr th {\n",
       "        vertical-align: top;\n",
       "    }\n",
       "\n",
       "    .dataframe thead th {\n",
       "        text-align: right;\n",
       "    }\n",
       "</style>\n",
       "<table border=\"1\" class=\"dataframe\">\n",
       "  <thead>\n",
       "    <tr style=\"text-align: right;\">\n",
       "      <th></th>\n",
       "      <th>ph</th>\n",
       "      <th>Hardness</th>\n",
       "      <th>Solids</th>\n",
       "      <th>Chloramines</th>\n",
       "      <th>Sulfate</th>\n",
       "      <th>Conductivity</th>\n",
       "      <th>Organic_carbon</th>\n",
       "      <th>Trihalomethanes</th>\n",
       "      <th>Turbidity</th>\n",
       "      <th>Potability</th>\n",
       "    </tr>\n",
       "  </thead>\n",
       "  <tbody>\n",
       "    <tr>\n",
       "      <th>0</th>\n",
       "      <td>NaN</td>\n",
       "      <td>204.890455</td>\n",
       "      <td>20791.318981</td>\n",
       "      <td>7.300212</td>\n",
       "      <td>368.516441</td>\n",
       "      <td>564.308654</td>\n",
       "      <td>10.379783</td>\n",
       "      <td>86.990970</td>\n",
       "      <td>2.963135</td>\n",
       "      <td>0</td>\n",
       "    </tr>\n",
       "    <tr>\n",
       "      <th>1</th>\n",
       "      <td>3.716080</td>\n",
       "      <td>129.422921</td>\n",
       "      <td>18630.057858</td>\n",
       "      <td>6.635246</td>\n",
       "      <td>NaN</td>\n",
       "      <td>592.885359</td>\n",
       "      <td>15.180013</td>\n",
       "      <td>56.329076</td>\n",
       "      <td>4.500656</td>\n",
       "      <td>0</td>\n",
       "    </tr>\n",
       "    <tr>\n",
       "      <th>2</th>\n",
       "      <td>8.099124</td>\n",
       "      <td>224.236259</td>\n",
       "      <td>19909.541732</td>\n",
       "      <td>9.275884</td>\n",
       "      <td>NaN</td>\n",
       "      <td>418.606213</td>\n",
       "      <td>16.868637</td>\n",
       "      <td>66.420093</td>\n",
       "      <td>3.055934</td>\n",
       "      <td>0</td>\n",
       "    </tr>\n",
       "    <tr>\n",
       "      <th>3</th>\n",
       "      <td>8.316766</td>\n",
       "      <td>214.373394</td>\n",
       "      <td>22018.417441</td>\n",
       "      <td>8.059332</td>\n",
       "      <td>356.886136</td>\n",
       "      <td>363.266516</td>\n",
       "      <td>18.436524</td>\n",
       "      <td>100.341674</td>\n",
       "      <td>4.628771</td>\n",
       "      <td>0</td>\n",
       "    </tr>\n",
       "    <tr>\n",
       "      <th>4</th>\n",
       "      <td>9.092223</td>\n",
       "      <td>181.101509</td>\n",
       "      <td>17978.986339</td>\n",
       "      <td>6.546600</td>\n",
       "      <td>310.135738</td>\n",
       "      <td>398.410813</td>\n",
       "      <td>11.558279</td>\n",
       "      <td>31.997993</td>\n",
       "      <td>4.075075</td>\n",
       "      <td>0</td>\n",
       "    </tr>\n",
       "  </tbody>\n",
       "</table>\n",
       "</div>"
      ],
      "text/plain": [
       "         ph    Hardness        Solids  Chloramines     Sulfate  Conductivity  \\\n",
       "0       NaN  204.890455  20791.318981     7.300212  368.516441    564.308654   \n",
       "1  3.716080  129.422921  18630.057858     6.635246         NaN    592.885359   \n",
       "2  8.099124  224.236259  19909.541732     9.275884         NaN    418.606213   \n",
       "3  8.316766  214.373394  22018.417441     8.059332  356.886136    363.266516   \n",
       "4  9.092223  181.101509  17978.986339     6.546600  310.135738    398.410813   \n",
       "\n",
       "   Organic_carbon  Trihalomethanes  Turbidity  Potability  \n",
       "0       10.379783        86.990970   2.963135           0  \n",
       "1       15.180013        56.329076   4.500656           0  \n",
       "2       16.868637        66.420093   3.055934           0  \n",
       "3       18.436524       100.341674   4.628771           0  \n",
       "4       11.558279        31.997993   4.075075           0  "
      ]
     },
     "execution_count": 12,
     "metadata": {},
     "output_type": "execute_result"
    }
   ],
   "source": [
    "# load dataset\n",
    "waterdf = pd.read_csv(\"../dataset/water_potability.csv\")\n",
    "waterdf.head()"
   ]
  },
  {
   "cell_type": "code",
   "execution_count": 14,
   "id": "d7626ff0",
   "metadata": {},
   "outputs": [
    {
     "data": {
      "text/plain": [
       "ph                 float64\n",
       "Hardness           float64\n",
       "Solids             float64\n",
       "Chloramines        float64\n",
       "Sulfate            float64\n",
       "Conductivity       float64\n",
       "Organic_carbon     float64\n",
       "Trihalomethanes    float64\n",
       "Turbidity          float64\n",
       "Potability           int64\n",
       "dtype: object"
      ]
     },
     "execution_count": 14,
     "metadata": {},
     "output_type": "execute_result"
    }
   ],
   "source": [
    "#Search if there is a categorical variables in the dataset by looking for the type of columns\n",
    "waterdf.dtypes"
   ]
  },
  {
   "cell_type": "code",
   "execution_count": 4,
   "id": "e15057de",
   "metadata": {},
   "outputs": [],
   "source": [
    "#split data into training and validation sets\n",
    "from sklearn.model_selection import train_test_split\n",
    "\n",
    "y = waterdf.Potability\n",
    "X = waterdf.drop(['Potability'], axis=1)\n",
    "X_train, X_valid, y_train, y_valid = train_test_split(X, y, train_size=0.7, test_size=0.3, random_state=0)"
   ]
  },
  {
   "cell_type": "code",
   "execution_count": 5,
   "id": "615b8be0",
   "metadata": {},
   "outputs": [],
   "source": [
    "#columns with missing value\n",
    "cols_with_missing = [col for col in waterdf.columns \n",
    "                     if waterdf[col].isnull().any()]"
   ]
  },
  {
   "cell_type": "code",
   "execution_count": 6,
   "id": "f02296c8",
   "metadata": {},
   "outputs": [],
   "source": [
    "#imputation of missing values\n",
    "from sklearn.impute import SimpleImputer\n",
    "\n",
    "my_imputer = SimpleImputer()\n",
    "impute_X_train = pd.DataFrame(my_imputer.fit_transform(X_train))\n",
    "impute_X_valid = pd.DataFrame(my_imputer.transform(X_valid))\n",
    "\n",
    "impute_X_train.columns = X_train.columns\n",
    "impute_X_valid.columns = X_valid.columns"
   ]
  },
  {
   "cell_type": "code",
   "execution_count": 7,
   "id": "0f8d32f2",
   "metadata": {},
   "outputs": [
    {
     "data": {
      "image/png": "[encoded data removed]",
      "text/plain": [
       "<Figure size 1080x1080 with 8 Axes>"
      ]
     },
     "metadata": {
      "needs_background": "light"
     },
     "output_type": "display_data"
    }
   ],
   "source": [
    "#feature extraction\n",
    "#We want to see there if a column affects particularly the output\n",
    "import matplotlib.pyplot as plt\n",
    "import seaborn as sns\n",
    "\n",
    "plt.figure(figsize=(15,15))\n",
    "for i in range(8):\n",
    "    plt.subplot(4,4,i+1)\n",
    "    sns.scatterplot(x=impute_X_train[impute_X_train.columns[i]], y=y_train)"
   ]
  },
  {
   "cell_type": "code",
   "execution_count": 8,
   "id": "cade21f7",
   "metadata": {},
   "outputs": [],
   "source": [
    "#We see through the visualisation that all columns of X_train don't have an influence on the potability\n",
    "#We'll use the all columns of X_train"
   ]
  },
  {
   "cell_type": "code",
   "execution_count": 29,
   "id": "f8978848",
   "metadata": {},
   "outputs": [
    {
     "name": "stdout",
     "output_type": "stream",
     "text": [
      "[15:22:30] WARNING: ../src/learner.cc:1095: Starting in XGBoost 1.3.0, the default evaluation metric used with the objective 'binary:logistic' was changed from 'error' to 'logloss'. Explicitly set eval_metric if you'd like to restore the old behavior.\n",
      "[0]\tvalidation_0-logloss:0.68700\n",
      "[1]\tvalidation_0-logloss:0.68114\n",
      "[2]\tvalidation_0-logloss:0.67607\n",
      "[3]\tvalidation_0-logloss:0.67174\n",
      "[4]\tvalidation_0-logloss:0.66724\n",
      "[5]\tvalidation_0-logloss:0.66258\n",
      "[6]\tvalidation_0-logloss:0.65901\n",
      "[7]\tvalidation_0-logloss:0.65590\n",
      "[8]\tvalidation_0-logloss:0.65381\n",
      "[9]\tvalidation_0-logloss:0.65046\n",
      "[10]\tvalidation_0-logloss:0.64781\n",
      "[11]\tvalidation_0-logloss:0.64611\n",
      "[12]\tvalidation_0-logloss:0.64443\n",
      "[13]\tvalidation_0-logloss:0.64182\n",
      "[14]\tvalidation_0-logloss:0.64002\n",
      "[15]\tvalidation_0-logloss:0.63855\n",
      "[16]\tvalidation_0-logloss:0.63691\n",
      "[17]\tvalidation_0-logloss:0.63533\n",
      "[18]\tvalidation_0-logloss:0.63400\n",
      "[19]\tvalidation_0-logloss:0.63319\n",
      "[20]\tvalidation_0-logloss:0.63218\n",
      "[21]\tvalidation_0-logloss:0.63022\n",
      "[22]\tvalidation_0-logloss:0.62982\n",
      "[23]\tvalidation_0-logloss:0.62877\n",
      "[24]\tvalidation_0-logloss:0.62778\n",
      "[25]\tvalidation_0-logloss:0.62737\n",
      "[26]\tvalidation_0-logloss:0.62666\n",
      "[27]\tvalidation_0-logloss:0.62532\n",
      "[28]\tvalidation_0-logloss:0.62461\n",
      "[29]\tvalidation_0-logloss:0.62362\n",
      "[30]\tvalidation_0-logloss:0.62322\n",
      "[31]\tvalidation_0-logloss:0.62258\n",
      "[32]\tvalidation_0-logloss:0.62066\n",
      "[33]\tvalidation_0-logloss:0.62055\n",
      "[34]\tvalidation_0-logloss:0.61864\n",
      "[35]\tvalidation_0-logloss:0.61791\n",
      "[36]\tvalidation_0-logloss:0.61754\n",
      "[37]\tvalidation_0-logloss:0.61790\n",
      "[38]\tvalidation_0-logloss:0.61764\n",
      "[39]\tvalidation_0-logloss:0.61662\n",
      "[40]\tvalidation_0-logloss:0.61636\n",
      "[41]\tvalidation_0-logloss:0.61604\n",
      "[42]\tvalidation_0-logloss:0.61554\n",
      "[43]\tvalidation_0-logloss:0.61518\n",
      "[44]\tvalidation_0-logloss:0.61495\n",
      "[45]\tvalidation_0-logloss:0.61470\n",
      "[46]\tvalidation_0-logloss:0.61495\n",
      "[47]\tvalidation_0-logloss:0.61369\n",
      "[48]\tvalidation_0-logloss:0.61360\n",
      "[49]\tvalidation_0-logloss:0.61297\n",
      "[50]\tvalidation_0-logloss:0.61282\n",
      "[51]\tvalidation_0-logloss:0.61260\n",
      "[52]\tvalidation_0-logloss:0.61228\n",
      "[53]\tvalidation_0-logloss:0.61182\n",
      "[54]\tvalidation_0-logloss:0.61129\n",
      "[55]\tvalidation_0-logloss:0.61119\n",
      "[56]\tvalidation_0-logloss:0.61132\n",
      "[57]\tvalidation_0-logloss:0.61110\n",
      "[58]\tvalidation_0-logloss:0.61102\n",
      "[59]\tvalidation_0-logloss:0.61091\n",
      "[60]\tvalidation_0-logloss:0.60947\n",
      "[61]\tvalidation_0-logloss:0.60955\n",
      "[62]\tvalidation_0-logloss:0.60960\n",
      "[63]\tvalidation_0-logloss:0.60967\n",
      "[64]\tvalidation_0-logloss:0.60923\n",
      "[65]\tvalidation_0-logloss:0.60928\n",
      "[66]\tvalidation_0-logloss:0.60931\n",
      "[67]\tvalidation_0-logloss:0.60939\n",
      "[68]\tvalidation_0-logloss:0.60879\n",
      "[69]\tvalidation_0-logloss:0.60835\n",
      "[70]\tvalidation_0-logloss:0.60848\n",
      "[71]\tvalidation_0-logloss:0.60830\n",
      "[72]\tvalidation_0-logloss:0.60813\n",
      "[73]\tvalidation_0-logloss:0.60824\n",
      "[74]\tvalidation_0-logloss:0.60822\n",
      "[75]\tvalidation_0-logloss:0.60784\n",
      "[76]\tvalidation_0-logloss:0.60800\n",
      "[77]\tvalidation_0-logloss:0.60725\n",
      "[78]\tvalidation_0-logloss:0.60722\n",
      "[79]\tvalidation_0-logloss:0.60730\n",
      "[80]\tvalidation_0-logloss:0.60704\n",
      "[81]\tvalidation_0-logloss:0.60717\n",
      "[82]\tvalidation_0-logloss:0.60655\n",
      "[83]\tvalidation_0-logloss:0.60654\n",
      "[84]\tvalidation_0-logloss:0.60665\n",
      "[85]\tvalidation_0-logloss:0.60663\n",
      "[86]\tvalidation_0-logloss:0.60670\n",
      "[87]\tvalidation_0-logloss:0.60628\n",
      "[88]\tvalidation_0-logloss:0.60626\n",
      "[89]\tvalidation_0-logloss:0.60615\n",
      "[90]\tvalidation_0-logloss:0.60588\n",
      "[91]\tvalidation_0-logloss:0.60599\n",
      "[92]\tvalidation_0-logloss:0.60631\n",
      "[93]\tvalidation_0-logloss:0.60598\n",
      "[94]\tvalidation_0-logloss:0.60606\n",
      "[95]\tvalidation_0-logloss:0.60613\n"
     ]
    },
    {
     "data": {
      "text/plain": [
       "XGBClassifier(base_score=0.5, booster='gbtree', colsample_bylevel=1,\n",
       "              colsample_bynode=1, colsample_bytree=1, gamma=0, gpu_id=-1,\n",
       "              importance_type='gain', interaction_constraints='',\n",
       "              learning_rate=0.05, max_delta_step=0, max_depth=6,\n",
       "              min_child_weight=1, missing=nan, monotone_constraints='()',\n",
       "              n_estimators=500, n_jobs=8, num_parallel_tree=1, random_state=0,\n",
       "              reg_alpha=0, reg_lambda=1, scale_pos_weight=1, subsample=1,\n",
       "              tree_method='exact', use_label_encoder=False,\n",
       "              validate_parameters=1, verbosity=None)"
      ]
     },
     "execution_count": 29,
     "metadata": {},
     "output_type": "execute_result"
    }
   ],
   "source": [
    "#Create and fit model of the model\n",
    "from xgboost import XGBClassifier\n",
    "\n",
    "model = XGBClassifier(n_estimators=500, learning_rate=0.05, use_label_encoder=False)\n",
    "model.fit(impute_X_train, y_train, early_stopping_rounds=5, eval_set=[(impute_X_valid, y_valid)])"
   ]
  },
  {
   "cell_type": "code",
   "execution_count": 30,
   "id": "e6730897",
   "metadata": {},
   "outputs": [
    {
     "name": "stdout",
     "output_type": "stream",
     "text": [
      "Model accuracy = 67.85%\n"
     ]
    }
   ],
   "source": [
    "#Get accuracy of the model\n",
    "from sklearn.metrics import accuracy_score\n",
    "\n",
    "y_pred = model.predict(impute_X_valid)\n",
    "accuracy = accuracy_score(y_valid, y_pred)\n",
    "print(\"Model accuracy = {:.2f}%\".format(accuracy * 100))"
   ]
  }
 ],
 "metadata": {
  "kernelspec": {
   "display_name": "Python 3",
   "language": "python",
   "name": "python3"
  },
  "language_info": {
   "codemirror_mode": {
    "name": "ipython",
    "version": 3
   },
   "file_extension": ".py",
   "mimetype": "text/x-python",
   "name": "python",
   "nbconvert_exporter": "python",
   "pygments_lexer": "ipython3",
   "version": "3.8.10"
  }
 },
 "nbformat": 4,
 "nbformat_minor": 5
}
